{
 "cells": [
  {
   "cell_type": "markdown",
   "metadata": {},
   "source": [
    "# Introdução ao Pandas\n",
    "\n",
    "Este notebook complementa o texto de Introdução ao Pandas no Medium. Neste repositório você localiza a base de dados \"dividas.csv\", que será o nosso objeto de estudos. Siga as instruções abaixo para realizar seus exercícios."
   ]
  },
  {
   "cell_type": "markdown",
   "metadata": {},
   "source": [
    "### Referências\n",
    "\n",
    "Você pode consultar as referências que julgar necessário. Listo algumas úteis:\n",
    "\n",
    "* http://pandas.pydata.org/pandas-docs/stable/\n",
    "* https://www.python.org/doc/"
   ]
  },
  {
   "cell_type": "markdown",
   "metadata": {},
   "source": [
    "### Importar as bibliotecas que serão utilizadas no exercício"
   ]
  },
  {
   "cell_type": "code",
   "execution_count": null,
   "metadata": {},
   "outputs": [],
   "source": [
    "import pandas as pd\n",
    "import cenarios_unittest as testes"
   ]
  },
  {
   "cell_type": "markdown",
   "metadata": {},
   "source": [
    "### Cenário #01 - Leitura do arquivo CSV"
   ]
  },
  {
   "cell_type": "code",
   "execution_count": null,
   "metadata": {},
   "outputs": [],
   "source": [
    "# TODO: crie um dataframe a partir do arquivo \"dividas.csv\"\n",
    "df = None\n",
    "\n",
    "# Não altere nada abaixo desta linha\n",
    "testes.verificar_cenario_01(df)"
   ]
  },
  {
   "cell_type": "markdown",
   "metadata": {},
   "source": [
    "### Cenário #02 - Extraindo as 5 primeiras linhas do dataframe"
   ]
  },
  {
   "cell_type": "code",
   "execution_count": null,
   "metadata": {},
   "outputs": [],
   "source": [
    "# TODO: extraia as cinco primeiras linhas do dataframe\n",
    "cinco_primeiras_linhas = None\n",
    "\n",
    "# Não altere nada abaixo desta linha\n",
    "testes.verificar_cenario_02(cinco_primeiras_linhas)"
   ]
  },
  {
   "cell_type": "markdown",
   "metadata": {},
   "source": [
    "### Cenário #03 - Conversão dos tipos numéricos que estão como string\n",
    "\n",
    "Crie uma função chamada converter_string_para_float que verifica se o argumento já é do tipo float e o retorna caso positivo. Caso negativo, ele será uma string (ex.: \"123,45\"; \"1.234,56\"). Quando for uma string, converta-o para float antes de retornar o valor numérico."
   ]
  },
  {
   "cell_type": "code",
   "execution_count": null,
   "metadata": {},
   "outputs": [],
   "source": [
    "# TODO: retorne o valor float a partir de um argumento que pode ser uma string\n",
    "def converter_string_para_float(x):\n",
    "    return 0.0\n",
    "\n",
    "# Não altere nada abaixo desta linha\n",
    "testes.verificar_cenario_03(converter_string_para_float)"
   ]
  },
  {
   "cell_type": "markdown",
   "metadata": {},
   "source": [
    "### Cenário #04 - Aplique a função de conversão nas colunas ValorVencido e ValorPago\n",
    "\n",
    "Como podemos ver abaixo, as séries ValorVencido e ValorPago são do tipo object. Utilize a função que você criou acima para converter os valores."
   ]
  },
  {
   "cell_type": "code",
   "execution_count": null,
   "metadata": {},
   "outputs": [],
   "source": [
    "df['ValorVencido'].head(5)"
   ]
  },
  {
   "cell_type": "code",
   "execution_count": null,
   "metadata": {},
   "outputs": [],
   "source": [
    "df['ValorPago'].head(5)"
   ]
  },
  {
   "cell_type": "code",
   "execution_count": null,
   "metadata": {},
   "outputs": [],
   "source": [
    "# TODO: aplique a função converter_string_para_float e substitua as séries com os novos dados\n",
    "\n",
    "# Não altere nada abaixo desta linha\n",
    "testes.verificar_cenario_04(df)"
   ]
  },
  {
   "cell_type": "code",
   "execution_count": null,
   "metadata": {},
   "outputs": [],
   "source": [
    "df['ValorVencido'].head(5)"
   ]
  },
  {
   "cell_type": "code",
   "execution_count": null,
   "metadata": {},
   "outputs": [],
   "source": [
    "df['ValorPago'].head(5)"
   ]
  },
  {
   "cell_type": "markdown",
   "metadata": {},
   "source": [
    "### Cenário #05 - Média e Soma\n",
    "\n",
    "Responda as pergundas abaixo, salvando os valores nas variáveis especificadas."
   ]
  },
  {
   "cell_type": "code",
   "execution_count": null,
   "metadata": {},
   "outputs": [],
   "source": [
    "# TODO: Calcule a média das dívidas e dos pagamentos, e a proporção recebida em relação ao total devido\n",
    "media_das_dividas = 0.0\n",
    "media_dos_pagamentos = 0.0\n",
    "\n",
    "total_pago = 0.0\n",
    "total_devido = 0.0\n",
    "\n",
    "razao_entre_total_pago_e_total_devido = 0.0\n",
    "\n",
    "# Não altere nada abaixo desta linha\n",
    "testes.verificar_cenario_05(\"media_das_dividas\", media_das_dividas)\n",
    "testes.verificar_cenario_05(\"media_dos_pagamentos\", media_dos_pagamentos)\n",
    "testes.verificar_cenario_05(\"razao_entre_total_pago_e_total_devido\", razao_entre_total_pago_e_total_devido)"
   ]
  },
  {
   "cell_type": "markdown",
   "metadata": {},
   "source": [
    "### Cenário #06 - Separação dos dados entre casados, solteiros e outros"
   ]
  },
  {
   "cell_type": "code",
   "execution_count": null,
   "metadata": {},
   "outputs": [],
   "source": [
    "df['EstadoCivil'].value_counts()"
   ]
  },
  {
   "cell_type": "code",
   "execution_count": null,
   "metadata": {},
   "outputs": [],
   "source": [
    "# TODO: separe os dados do dataframe por estado civil, utilizando apenas as quantidades mais expressivas\n",
    "casados = None\n",
    "solteiros = None\n",
    "outros = None\n",
    "\n",
    "# TODO: calcule a proporção recebida em relação ao total devido de cada grupo\n",
    "razao_casados = 0.0\n",
    "razao_solteiros = 0.0\n",
    "razao_outros = 0.0\n",
    "\n",
    "# Não altere nada abaixo desta linha\n",
    "testes.verificar_cenario_06_dataframe(\"casados\", casados)\n",
    "testes.verificar_cenario_06_dataframe(\"solteiros\", solteiros)\n",
    "testes.verificar_cenario_06_dataframe(\"outros\", outros)\n",
    "\n",
    "testes.verificar_cenario_06_razao(\"casados\", razao_casados)\n",
    "testes.verificar_cenario_06_razao(\"solteiros\", razao_solteiros)\n",
    "testes.verificar_cenario_06_razao(\"outros\", razao_outros)"
   ]
  },
  {
   "cell_type": "markdown",
   "metadata": {},
   "source": [
    "# Desafios\n",
    "\n",
    "Esta nova seção apresenta dois desafios para você exercitar os conceitos aprendidos até aqui. No primeiro, você será avaliado por um caso de teste parecido com o Cenário #06, a diferença é que você utilizará a série Sexo. No segundo desafio, você calculará a mesma razão entre o valor pago e o valor devido entre as décadas, calculada a partir da data de nascimento."
   ]
  },
  {
   "cell_type": "markdown",
   "metadata": {},
   "source": [
    "### Desafio #01 - Separação dos dados pela série Sexo"
   ]
  },
  {
   "cell_type": "code",
   "execution_count": null,
   "metadata": {},
   "outputs": [],
   "source": [
    "mulheres = None\n",
    "homens = None\n",
    "\n",
    "razao_mulheres = 0.0\n",
    "razao_homens = 0.0\n",
    "\n",
    "# Não altere nada abaixo desta linha\n",
    "testes.verificar_desafio_01_dataframe(\"mulheres\", mulheres)\n",
    "testes.verificar_desafio_01_dataframe(\"homens\", homens)\n",
    "\n",
    "testes.verificar_desafio_01_razao(\"mulheres\", razao_mulheres)\n",
    "testes.verificar_desafio_01_razao(\"homens\", razao_homens)"
   ]
  },
  {
   "cell_type": "markdown",
   "metadata": {},
   "source": [
    "### Desafio #02 - Separação dos dados pela década\n",
    "\n",
    "No nosso dataframe não existe uma série específica para a década, mas existe a data de nascimento e podemos calcular este dado a partir dela. Você vai criar uma função que recebe um inteiro representando o ano e retorna a década (ex.: f(1989) = 80). Com a função pronta, você vai criar uma série chamada Decada. Por fim, você exibirá a razão entre o valor pago e o valor devido para as décadas de 1920 à 2000."
   ]
  },
  {
   "cell_type": "code",
   "execution_count": null,
   "metadata": {},
   "outputs": [],
   "source": [
    "# TODO: Implemente a função década que recebe um inteiro e retorna outro inteiro representando a década\n",
    "def decada(ano):\n",
    "    return 0\n",
    "\n",
    "# Não altere nada abaixo desta linha\n",
    "testes.verificar_desafio_02_decada(decada)"
   ]
  },
  {
   "cell_type": "code",
   "execution_count": null,
   "metadata": {},
   "outputs": [],
   "source": [
    "# TODO: crie uma série Decada do tipo inteiro, utilizando o campo DataNascimento que é string\n",
    "# TODO: caso haja algum valor NaN, preencha ele com 0.\n",
    "df['Decada'] = None\n",
    "\n",
    "# Não altere nada abaixo desta linha\n",
    "testes.verificar_desafio_02_serie_decada(df)"
   ]
  },
  {
   "cell_type": "code",
   "execution_count": null,
   "metadata": {},
   "outputs": [],
   "source": [
    "# TODO: calcule a razão entre o valor pago e o valor devido referente a cada década entre 1920 e 2000.\n",
    "# TODO: crie um dicionário, sendo que a chave é a década e o valor é a razão (ex.: {20: 1.23, 30: 4.56})\n",
    "dicionario_decadas = {}\n",
    "\n",
    "# Não altere nada abaixo desta linha\n",
    "testes.verificar_desafio_02_razao_decadas(dicionario_decadas)"
   ]
  },
  {
   "cell_type": "code",
   "execution_count": null,
   "metadata": {},
   "outputs": [],
   "source": []
  }
 ],
 "metadata": {
  "kernelspec": {
   "display_name": "Python 3",
   "language": "python",
   "name": "python3"
  },
  "language_info": {
   "codemirror_mode": {
    "name": "ipython",
    "version": 3
   },
   "file_extension": ".py",
   "mimetype": "text/x-python",
   "name": "python",
   "nbconvert_exporter": "python",
   "pygments_lexer": "ipython3",
   "version": "3.5.2+"
  }
 },
 "nbformat": 4,
 "nbformat_minor": 2
}
