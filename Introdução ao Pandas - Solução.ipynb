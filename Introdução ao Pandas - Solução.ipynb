{
 "cells": [
  {
   "cell_type": "markdown",
   "metadata": {},
   "source": [
    "# Introdução ao Pandas\n",
    "\n",
    "Este notebook complementa o texto de Introdução ao Pandas no Medium. Neste repositório você localiza a base de dados \"dividas.csv\", que será o nosso objeto de estudos. Siga as instruções abaixo para realizar seus exercícios."
   ]
  },
  {
   "cell_type": "markdown",
   "metadata": {},
   "source": [
    "### Referências\n",
    "\n",
    "Você pode consultar as referências que julgar necessário. Listo algumas úteis:\n",
    "\n",
    "* http://pandas.pydata.org/pandas-docs/stable/\n",
    "* https://www.python.org/doc/"
   ]
  },
  {
   "cell_type": "markdown",
   "metadata": {},
   "source": [
    "### Importar as bibliotecas que serão utilizadas no exercício"
   ]
  },
  {
   "cell_type": "code",
   "execution_count": 1,
   "metadata": {},
   "outputs": [],
   "source": [
    "import pandas as pd\n",
    "import cenarios_unittest as testes"
   ]
  },
  {
   "cell_type": "markdown",
   "metadata": {},
   "source": [
    "### Cenário #01 - Leitura do arquivo CSV"
   ]
  },
  {
   "cell_type": "code",
   "execution_count": 2,
   "metadata": {},
   "outputs": [
    {
     "name": "stdout",
     "output_type": "stream",
     "text": [
      "Parabéns! Os testes passaram.\n"
     ]
    }
   ],
   "source": [
    "# TODO: crie um dataframe a partir do arquivo \"dividas.csv\"\n",
    "df = pd.read_csv('dividas.csv')\n",
    "\n",
    "# Não altere nada abaixo desta linha\n",
    "testes.verificar_cenario_01(df)"
   ]
  },
  {
   "cell_type": "markdown",
   "metadata": {},
   "source": [
    "### Cenário #02 - Extraindo as 5 primeiras linhas do dataframe"
   ]
  },
  {
   "cell_type": "code",
   "execution_count": 3,
   "metadata": {},
   "outputs": [
    {
     "name": "stdout",
     "output_type": "stream",
     "text": [
      "Parabéns! Os testes passaram.\n"
     ]
    }
   ],
   "source": [
    "# TODO: extraia as cinco primeiras linhas do dataframe\n",
    "cinco_primeiras_linhas = df.head(5)\n",
    "\n",
    "# Não altere nada abaixo desta linha\n",
    "testes.verificar_cenario_02(cinco_primeiras_linhas)"
   ]
  },
  {
   "cell_type": "markdown",
   "metadata": {},
   "source": [
    "### Cenário #03 - Conversão dos tipos numéricos que estão como string\n",
    "\n",
    "Crie uma função chamada converter_string_para_float que verifica se o argumento já é do tipo float e o retorna caso positivo. Caso negativo, ele será uma string (ex.: \"123,45\"; \"1.234,56\"). Quando for uma string, converta-o para float antes de retornar o valor numérico."
   ]
  },
  {
   "cell_type": "code",
   "execution_count": 4,
   "metadata": {},
   "outputs": [
    {
     "name": "stdout",
     "output_type": "stream",
     "text": [
      "Parabéns! Os testes passaram.\n"
     ]
    }
   ],
   "source": [
    "# TODO: retorne o valor float a partir de um argumento que pode ser uma string\n",
    "def converter_string_para_float(x):\n",
    "    if type(x) == float:\n",
    "        return x\n",
    "    return float(x.replace('.', '').replace(',', '.'))\n",
    "\n",
    "# Não altere nada abaixo desta linha\n",
    "testes.verificar_cenario_03(converter_string_para_float)"
   ]
  },
  {
   "cell_type": "markdown",
   "metadata": {},
   "source": [
    "### Cenário #04 - Aplique a função de conversão nas colunas ValorVencido e ValorPago\n",
    "\n",
    "Como podemos ver abaixo, as séries ValorVencido e ValorPago são do tipo object. Utilize a função que você criou acima para converter os valores."
   ]
  },
  {
   "cell_type": "code",
   "execution_count": 5,
   "metadata": {},
   "outputs": [
    {
     "data": {
      "text/plain": [
       "0    267,34\n",
       "1    351,74\n",
       "2     79,94\n",
       "3    217,91\n",
       "4    441,19\n",
       "Name: ValorVencido, dtype: object"
      ]
     },
     "execution_count": 5,
     "metadata": {},
     "output_type": "execute_result"
    }
   ],
   "source": [
    "df['ValorVencido'].head(5)"
   ]
  },
  {
   "cell_type": "code",
   "execution_count": 6,
   "metadata": {},
   "outputs": [
    {
     "data": {
      "text/plain": [
       "0    109,93\n",
       "1    142,19\n",
       "2     53,99\n",
       "3    200,01\n",
       "4    489,06\n",
       "Name: ValorPago, dtype: object"
      ]
     },
     "execution_count": 6,
     "metadata": {},
     "output_type": "execute_result"
    }
   ],
   "source": [
    "df['ValorPago'].head(5)"
   ]
  },
  {
   "cell_type": "code",
   "execution_count": 7,
   "metadata": {},
   "outputs": [
    {
     "name": "stdout",
     "output_type": "stream",
     "text": [
      "Parabéns! Os testes passaram.\n"
     ]
    }
   ],
   "source": [
    "# TODO: aplique a função converter_string_para_float e substitua as séries com os novos dados\n",
    "df['ValorVencido'] = df['ValorVencido'].apply(converter_string_para_float)\n",
    "df['ValorPago'] = df['ValorPago'].apply(converter_string_para_float)\n",
    "\n",
    "# Não altere nada abaixo desta linha\n",
    "testes.verificar_cenario_04(df)"
   ]
  },
  {
   "cell_type": "code",
   "execution_count": 8,
   "metadata": {},
   "outputs": [
    {
     "data": {
      "text/plain": [
       "0    267.34\n",
       "1    351.74\n",
       "2     79.94\n",
       "3    217.91\n",
       "4    441.19\n",
       "Name: ValorVencido, dtype: float64"
      ]
     },
     "execution_count": 8,
     "metadata": {},
     "output_type": "execute_result"
    }
   ],
   "source": [
    "df['ValorVencido'].head(5)"
   ]
  },
  {
   "cell_type": "code",
   "execution_count": 9,
   "metadata": {},
   "outputs": [
    {
     "data": {
      "text/plain": [
       "0    109.93\n",
       "1    142.19\n",
       "2     53.99\n",
       "3    200.01\n",
       "4    489.06\n",
       "Name: ValorPago, dtype: float64"
      ]
     },
     "execution_count": 9,
     "metadata": {},
     "output_type": "execute_result"
    }
   ],
   "source": [
    "df['ValorPago'].head(5)"
   ]
  },
  {
   "cell_type": "markdown",
   "metadata": {},
   "source": [
    "### Cenário #05 - Média e Soma\n",
    "\n",
    "Responda as pergundas abaixo, salvando os valores nas variáveis especificadas."
   ]
  },
  {
   "cell_type": "code",
   "execution_count": 10,
   "metadata": {},
   "outputs": [
    {
     "name": "stdout",
     "output_type": "stream",
     "text": [
      "Parabéns! Os testes passaram.\n",
      "Parabéns! Os testes passaram.\n",
      "Parabéns! Os testes passaram.\n"
     ]
    }
   ],
   "source": [
    "# TODO: Calcule a média das dívidas e dos pagamentos, e a proporção recebida em relação ao total devido\n",
    "media_das_dividas = df['ValorVencido'].mean()\n",
    "media_dos_pagamentos = df['ValorPago'].mean()\n",
    "\n",
    "total_pago = df['ValorPago'].sum()\n",
    "total_devido = df['ValorVencido'].sum()\n",
    "\n",
    "razao_entre_total_pago_e_total_devido = total_pago / total_devido\n",
    "\n",
    "# Não altere nada abaixo desta linha\n",
    "testes.verificar_cenario_05(\"media_das_dividas\", media_das_dividas)\n",
    "testes.verificar_cenario_05(\"media_dos_pagamentos\", media_dos_pagamentos)\n",
    "testes.verificar_cenario_05(\"razao_entre_total_pago_e_total_devido\", razao_entre_total_pago_e_total_devido)"
   ]
  },
  {
   "cell_type": "markdown",
   "metadata": {},
   "source": [
    "### Cenário #06 - Separação dos dados entre casados, solteiros e outros"
   ]
  },
  {
   "cell_type": "code",
   "execution_count": 11,
   "metadata": {},
   "outputs": [
    {
     "data": {
      "text/plain": [
       "CASADO           16337\n",
       "SOLTEIRO          7558\n",
       "Outros            5147\n",
       "SOLTEIRA           164\n",
       "CASADA              94\n",
       "Casado              71\n",
       "Solteiro            52\n",
       "DIVORCIADA          17\n",
       "VIUVA                5\n",
       "DIVORCIADO           3\n",
       "SOLTERIO             2\n",
       "Divorciado           2\n",
       "Viúvo                1\n",
       "UNIAO ESTAVEL        1\n",
       "OUTROS               1\n",
       "SOLITEIRA            1\n",
       "UNIÃO ESTÁVEL        1\n",
       " SOLTEIRO            1\n",
       "SEPARADA             1\n",
       "Name: EstadoCivil, dtype: int64"
      ]
     },
     "execution_count": 11,
     "metadata": {},
     "output_type": "execute_result"
    }
   ],
   "source": [
    "df['EstadoCivil'].value_counts()"
   ]
  },
  {
   "cell_type": "code",
   "execution_count": 12,
   "metadata": {},
   "outputs": [
    {
     "name": "stdout",
     "output_type": "stream",
     "text": [
      "Parabéns! Os testes passaram.\n",
      "Parabéns! Os testes passaram.\n",
      "Parabéns! Os testes passaram.\n",
      "Parabéns! Os testes passaram.\n",
      "Parabéns! Os testes passaram.\n",
      "Parabéns! Os testes passaram.\n"
     ]
    }
   ],
   "source": [
    "def porcentagem_recebida(dataframe):\n",
    "    valor_pago = dataframe['ValorPago'].sum()\n",
    "    valor_recebido = dataframe['ValorVencido'].sum()\n",
    "    \n",
    "    return valor_pago / valor_recebido\n",
    "\n",
    "# TODO: separe os dados do dataframe por estado civil, utilizando apenas as quantidades mais expressivas\n",
    "casados = df[df.EstadoCivil == 'CASADO']\n",
    "solteiros = df[df.EstadoCivil == 'SOLTEIRO']\n",
    "outros = df[df.EstadoCivil == 'Outros']\n",
    "\n",
    "# TODO: calcule a proporção recebida em relação ao total devido de cada grupo\n",
    "razao_casados = porcentagem_recebida(casados)\n",
    "razao_solteiros = porcentagem_recebida(solteiros)\n",
    "razao_outros = porcentagem_recebida(outros)\n",
    "\n",
    "# Não altere nada abaixo desta linha\n",
    "testes.verificar_cenario_06_dataframe(\"casados\", casados)\n",
    "testes.verificar_cenario_06_dataframe(\"solteiros\", solteiros)\n",
    "testes.verificar_cenario_06_dataframe(\"outros\", outros)\n",
    "\n",
    "testes.verificar_cenario_06_razao(\"casados\", razao_casados)\n",
    "testes.verificar_cenario_06_razao(\"solteiros\", razao_solteiros)\n",
    "testes.verificar_cenario_06_razao(\"outros\", razao_outros)"
   ]
  },
  {
   "cell_type": "markdown",
   "metadata": {},
   "source": [
    "# Desafios\n",
    "\n",
    "Esta nova seção apresenta dois desafios para você exercitar os conceitos aprendidos até aqui. No primeiro, você será avaliado por um caso de teste parecido com o Cenário #06, a diferença é que você utilizará a série Sexo. No segundo desafio, você calculará a mesma razão entre o valor pago e o valor devido entre as décadas, calculada a partir da data de nascimento."
   ]
  },
  {
   "cell_type": "markdown",
   "metadata": {},
   "source": [
    "### Desafio #01 - Separação dos dados pela série Sexo"
   ]
  },
  {
   "cell_type": "code",
   "execution_count": 13,
   "metadata": {},
   "outputs": [
    {
     "name": "stdout",
     "output_type": "stream",
     "text": [
      "Parabéns! Os testes passaram.\n",
      "Parabéns! Os testes passaram.\n",
      "Parabéns! Os testes passaram.\n",
      "Parabéns! Os testes passaram.\n"
     ]
    }
   ],
   "source": [
    "mulheres = df[df.Sexo == 'F']\n",
    "homens = df[df.Sexo == 'M']\n",
    "\n",
    "razao_mulheres = porcentagem_recebida(mulheres)\n",
    "razao_homens = porcentagem_recebida(homens)\n",
    "\n",
    "# Não altere nada abaixo desta linha\n",
    "testes.verificar_desafio_01_dataframe(\"mulheres\", mulheres)\n",
    "testes.verificar_desafio_01_dataframe(\"homens\", homens)\n",
    "\n",
    "testes.verificar_desafio_01_razao(\"mulheres\", razao_mulheres)\n",
    "testes.verificar_desafio_01_razao(\"homens\", razao_homens)"
   ]
  },
  {
   "cell_type": "markdown",
   "metadata": {},
   "source": [
    "### Desafio #02 - Separação dos dados pela década\n",
    "\n",
    "No nosso dataframe não existe uma série específica para a década, mas existe a data de nascimento e podemos calcular este dado a partir dela. Você vai criar uma função que recebe um inteiro representando o ano e retorna a década (ex.: f(1989) = 80). Com a função pronta, você vai criar uma série chamada Decada. Por fim, você exibirá a razão entre o valor pago e o valor devido para as décadas de 1920 à 2000."
   ]
  },
  {
   "cell_type": "code",
   "execution_count": 14,
   "metadata": {},
   "outputs": [
    {
     "name": "stdout",
     "output_type": "stream",
     "text": [
      "Parabéns! Os testes passaram.\n"
     ]
    }
   ],
   "source": [
    "# TODO: Implemente a função década que recebe um inteiro e retorna outro inteiro representando a década\n",
    "def decada(ano):\n",
    "    diferenca = ano % 10\n",
    "    return ano - 1900 - diferenca\n",
    "\n",
    "# Não altere nada abaixo desta linha\n",
    "testes.verificar_desafio_02_decada(decada)"
   ]
  },
  {
   "cell_type": "code",
   "execution_count": 15,
   "metadata": {},
   "outputs": [
    {
     "name": "stdout",
     "output_type": "stream",
     "text": [
      "Parabéns! Os testes passaram.\n"
     ]
    }
   ],
   "source": [
    "# TODO: crie uma série Decada do tipo inteiro, utilizando o campo DataNascimento que é string\n",
    "# TODO: caso haja algum valor NaN, preencha ele com 0.\n",
    "def obter_decada(x):\n",
    "    data = pd.to_datetime(x, errors='ignore')\n",
    "    try:\n",
    "        return decada(data.year)\n",
    "    except Exception:\n",
    "        return 0\n",
    "\n",
    "df['Decada'] = df['DataNascimento'].apply(obter_decada)\n",
    "df['Decada'] = df['Decada'].fillna(0.0)\n",
    "\n",
    "# Não altere nada abaixo desta linha\n",
    "testes.verificar_desafio_02_serie_decada(df)"
   ]
  },
  {
   "cell_type": "code",
   "execution_count": 17,
   "metadata": {},
   "outputs": [
    {
     "name": "stdout",
     "output_type": "stream",
     "text": [
      "Década 20 : 1.0\n",
      "Década 30 : 0.206711340173\n",
      "Década 40 : 0.439225664299\n",
      "Década 50 : 0.407360040771\n",
      "Década 60 : 0.421985946164\n",
      "Década 70 : 0.480609822825\n",
      "Década 80 : 0.581209645743\n",
      "Década 90 : 0.586700556635\n",
      "Década 100 : 0.202271441987\n",
      "Parabéns! Os testes passaram.\n"
     ]
    }
   ],
   "source": [
    "# TODO: calcule a razão entre o valor pago e o valor devido referente a cada década entre 1920 e 2000.\n",
    "# TODO: crie um dicionário, sendo que a chave é a década e o valor é a razão (ex.: {20: 1.23, 30: 4.56})\n",
    "dicionario_decadas = {}\n",
    "\n",
    "for decada in range(20, 101, 10):\n",
    "    decada_serie = df[df.Decada == decada]\n",
    "    razao = porcentagem_recebida(decada_serie)\n",
    "    print('Década', decada, ':', razao)\n",
    "    dicionario_decadas[decada] = razao\n",
    "\n",
    "# Não altere nada abaixo desta linha\n",
    "testes.verificar_desafio_02_razao_decadas(dicionario_decadas)"
   ]
  },
  {
   "cell_type": "code",
   "execution_count": null,
   "metadata": {},
   "outputs": [],
   "source": []
  }
 ],
 "metadata": {
  "kernelspec": {
   "display_name": "Python 3",
   "language": "python",
   "name": "python3"
  },
  "language_info": {
   "codemirror_mode": {
    "name": "ipython",
    "version": 3
   },
   "file_extension": ".py",
   "mimetype": "text/x-python",
   "name": "python",
   "nbconvert_exporter": "python",
   "pygments_lexer": "ipython3",
   "version": "3.5.2+"
  }
 },
 "nbformat": 4,
 "nbformat_minor": 2
}
